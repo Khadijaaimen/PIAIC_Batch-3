{
 "cells": [
  {
   "cell_type": "code",
   "execution_count": 2,
   "metadata": {},
   "outputs": [
    {
     "data": {
      "text/plain": [
       "31.871428571428574"
      ]
     },
     "execution_count": 2,
     "metadata": {},
     "output_type": "execute_result"
    }
   ],
   "source": [
    "2 + 3 - 5 * 9 / 2 + (7 * 4) + 3 - (8 ^ 3) + (4 ** 3) / 5 + 4 - 3 * 2 - 4 + 9 * 9 / 7 + 3 + 8\n",
    "# 2 + 3 - 5 * 9 / 2 + 28 + 3 - 11 + 64 / 5 + 4 - 3 * 2 - 4 + 9 * 9 / 7 + 3 + 8 \n",
    "# 2 + 3 - 22.5 + 28 + 3 - 11 + 12.8 + 4 - 6 - 4 + 11.57 + 3 + 8 \n",
    "# 6 - 22.5 + 28 + 3 - 11 + 12.8 + 4 - 6 - 4 + 11.57 + 3 + 8  \n",
    "# -16.5 + 28 + 3 - 11 + 12.8 + 4 - 6 - 4 + 11.57 + 3 + 8\n",
    "# 11.5 + 3 - 11 + 12.8 + 4 - 6 - 4 + 11.57 + 3 + 8\n",
    "# 14.5 - 11 + 12.8 + 4 - 6 - 4 + 11.57 + 3 + 8\n",
    "# 3.5 + 12.8 + 4 - 6 - 4 + 11.57 + 3 + 8\n",
    "# 16.3 + 4 - 6 - 4 + 11.57 + 3 + 8\n",
    "# 20.3 - 6 - 4 + 11.57 + 3 + 8\n",
    "# 14.3 - 4 + 11.57 + 3 + 8\n",
    "# 10.3 + 11.57 + 3 + 8\n",
    "# 32.87"
   ]
  },
  {
   "cell_type": "code",
   "execution_count": null,
   "metadata": {},
   "outputs": [],
   "source": []
  }
 ],
 "metadata": {
  "kernelspec": {
   "display_name": "Python 3",
   "language": "python",
   "name": "python3"
  },
  "language_info": {
   "codemirror_mode": {
    "name": "ipython",
    "version": 3
   },
   "file_extension": ".py",
   "mimetype": "text/x-python",
   "name": "python",
   "nbconvert_exporter": "python",
   "pygments_lexer": "ipython3",
   "version": "3.7.4"
  }
 },
 "nbformat": 4,
 "nbformat_minor": 2
}
