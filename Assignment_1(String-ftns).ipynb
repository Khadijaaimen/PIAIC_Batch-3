{
 "cells": [
  {
   "cell_type": "code",
   "execution_count": 1,
   "metadata": {},
   "outputs": [
    {
     "name": "stdout",
     "output_type": "stream",
     "text": [
      "Parveen bibi\n"
     ]
    }
   ],
   "source": [
    "str = \"PARVEEN bibi\"\n",
    "print (str.capitalize())"
   ]
  },
  {
   "cell_type": "code",
   "execution_count": 2,
   "metadata": {},
   "outputs": [
    {
     "name": "stdout",
     "output_type": "stream",
     "text": [
      "parveen bibi\n"
     ]
    }
   ],
   "source": [
    "str = \"PARVEEN bibi\"\n",
    "print (str.casefold())"
   ]
  },
  {
   "cell_type": "code",
   "execution_count": 3,
   "metadata": {},
   "outputs": [
    {
     "name": "stdout",
     "output_type": "stream",
     "text": [
      "       PARVEEN bibi      \n"
     ]
    }
   ],
   "source": [
    "str = \"PARVEEN bibi\"\n",
    "rslt = str.center(25)\n",
    "print (rslt)"
   ]
  },
  {
   "cell_type": "code",
   "execution_count": 4,
   "metadata": {},
   "outputs": [
    {
     "name": "stdout",
     "output_type": "stream",
     "text": [
      "1\n",
      "1\n"
     ]
    }
   ],
   "source": [
    "str = \"PARVEEN bibi\"\n",
    "rslt = str.count('A')\n",
    "print (rslt)\n",
    "\n",
    "str1 = [1,3,5,3,2]\n",
    "rslt = str1.count(str1[0])\n",
    "print(rslt)"
   ]
  },
  {
   "cell_type": "code",
   "execution_count": 5,
   "metadata": {},
   "outputs": [
    {
     "name": "stdout",
     "output_type": "stream",
     "text": [
      "b'P\\xc3\\xa5RVEEN bii'\n"
     ]
    }
   ],
   "source": [
    "str = \"PåRVEEN bii\"\n",
    "rslt = str.encode()\n",
    "print (rslt)"
   ]
  },
  {
   "cell_type": "code",
   "execution_count": 6,
   "metadata": {},
   "outputs": [
    {
     "name": "stdout",
     "output_type": "stream",
     "text": [
      "False\n",
      "True\n"
     ]
    }
   ],
   "source": [
    "str = \"PARVEEN bibi\"\n",
    "rslt = str.endswith(',')\n",
    "print (rslt)\n",
    "\n",
    "str = \"PARVEEN bibi.\"\n",
    "rslt = str.endswith('.')\n",
    "print (rslt)"
   ]
  },
  {
   "cell_type": "code",
   "execution_count": 7,
   "metadata": {},
   "outputs": [
    {
     "name": "stdout",
     "output_type": "stream",
     "text": [
      "PA      RVEEN   bibi\n",
      "PA RVEEN bibi\n"
     ]
    }
   ],
   "source": [
    "str = \"PA\\tRVEEN\\tbibi\"\n",
    "rslt = str.expandtabs()\n",
    "print (rslt)\n",
    "rslt = str.expandtabs(3)\n",
    "print (rslt)"
   ]
  },
  {
   "cell_type": "code",
   "execution_count": 8,
   "metadata": {},
   "outputs": [
    {
     "name": "stdout",
     "output_type": "stream",
     "text": [
      "9\n"
     ]
    }
   ],
   "source": [
    "str = \"PARVEEN bibi\"\n",
    "rslt = str.find(\"i\")\n",
    "print (rslt)"
   ]
  },
  {
   "cell_type": "code",
   "execution_count": 9,
   "metadata": {},
   "outputs": [
    {
     "name": "stdout",
     "output_type": "stream",
     "text": [
      "\n",
      "Name:Parveen\n",
      "Father Name:Faisal Malook\n",
      "University:Bahria\n",
      "Score:100\n",
      "\n"
     ]
    }
   ],
   "source": [
    "name = \"Parveen\"\n",
    "f_name = \"Faisal Malook\"\n",
    "uni = \"Bahria\"\n",
    "score = 100\n",
    "\n",
    "txt = \"\"\"\n",
    "Name:{0}\n",
    "Father Name:{1}\n",
    "University:{2}\n",
    "Score:{3}\n",
    "\"\"\"\n",
    "\n",
    "print(txt.format(name,f_name,uni,score))"
   ]
  },
  {
   "cell_type": "code",
   "execution_count": 10,
   "metadata": {},
   "outputs": [
    {
     "name": "stdout",
     "output_type": "stream",
     "text": [
      "2 0\n",
      "0 2\n"
     ]
    }
   ],
   "source": [
    "point = {'x':2, \"y\":0}\n",
    "print('{x} {y}'.format_map(point))\n",
    "point = {'x':2, \"y\":0}\n",
    "print('{y} {x}'.format_map(point))"
   ]
  },
  {
   "cell_type": "code",
   "execution_count": 11,
   "metadata": {},
   "outputs": [
    {
     "name": "stdout",
     "output_type": "stream",
     "text": [
      "4\n"
     ]
    }
   ],
   "source": [
    "str = \"PARVEEN bibi\"\n",
    "rslt = str.index(\"E\")\n",
    "print (rslt)"
   ]
  },
  {
   "cell_type": "code",
   "execution_count": 12,
   "metadata": {},
   "outputs": [
    {
     "name": "stdout",
     "output_type": "stream",
     "text": [
      "False\n",
      "True\n",
      "True\n"
     ]
    }
   ],
   "source": [
    "str = \"PARVEEN bibi\"\n",
    "rslt = str.isalnum()\n",
    "print (rslt)\n",
    "\n",
    "str = \"3\"\n",
    "rslt = str.isalnum()\n",
    "print (rslt)\n",
    "\n",
    "str = \"abc3\"\n",
    "rslt = str.isalnum()\n",
    "print (rslt)"
   ]
  },
  {
   "cell_type": "code",
   "execution_count": 13,
   "metadata": {},
   "outputs": [
    {
     "name": "stdout",
     "output_type": "stream",
     "text": [
      "False\n",
      "False\n",
      "True\n"
     ]
    }
   ],
   "source": [
    "str = \"PARVEEN bibi\"\n",
    "rslt = str.isalpha()\n",
    "print (rslt)\n",
    "\n",
    "str = \"3\"\n",
    "rslt = str.isalpha()\n",
    "print (rslt)\n",
    "\n",
    "str = \"abc\"\n",
    "rslt = str.isalpha()\n",
    "print (rslt)"
   ]
  },
  {
   "cell_type": "code",
   "execution_count": 14,
   "metadata": {},
   "outputs": [
    {
     "name": "stdout",
     "output_type": "stream",
     "text": [
      "True\n",
      "True\n",
      "False\n"
     ]
    }
   ],
   "source": [
    "str = \"PARVEEN bibi\"\n",
    "rslt = str.isascii()\n",
    "print (rslt)\n",
    "\n",
    "str = \"3\"\n",
    "rslt = str.isascii()\n",
    "print (rslt)\n",
    "\n",
    "str = \"Ståle\"\n",
    "rslt = str.isascii()\n",
    "print (rslt)"
   ]
  },
  {
   "cell_type": "code",
   "execution_count": 15,
   "metadata": {},
   "outputs": [
    {
     "name": "stdout",
     "output_type": "stream",
     "text": [
      "False\n",
      "True\n",
      "False\n"
     ]
    }
   ],
   "source": [
    "str = \"PARVEEN bibi\"\n",
    "rslt = str.isdecimal()\n",
    "print (rslt)\n",
    "\n",
    "str = \"3\"\n",
    "rslt = str.isdecimal()\n",
    "print (rslt)\n",
    "\n",
    "str = \"7.333\"\n",
    "rslt = str.isdecimal()\n",
    "print (rslt)"
   ]
  },
  {
   "cell_type": "code",
   "execution_count": 16,
   "metadata": {},
   "outputs": [
    {
     "name": "stdout",
     "output_type": "stream",
     "text": [
      "False\n",
      "True\n"
     ]
    }
   ],
   "source": [
    "str = \"PARVEEN bibi\"\n",
    "rslt = str.isdigit()\n",
    "print (rslt)\n",
    "\n",
    "str = \"3\"\n",
    "rslt = str.isdigit()\n",
    "print (rslt)"
   ]
  },
  {
   "cell_type": "code",
   "execution_count": 17,
   "metadata": {},
   "outputs": [
    {
     "name": "stdout",
     "output_type": "stream",
     "text": [
      "True\n",
      "False\n"
     ]
    }
   ],
   "source": [
    "str = \"PARVEENbibi\"\n",
    "rslt = str.isidentifier()\n",
    "print (rslt)\n",
    "\n",
    "str = \"3fgd\"\n",
    "rslt = str.isidentifier()\n",
    "print (rslt)"
   ]
  },
  {
   "cell_type": "code",
   "execution_count": 18,
   "metadata": {},
   "outputs": [
    {
     "name": "stdout",
     "output_type": "stream",
     "text": [
      "False\n",
      "True\n"
     ]
    }
   ],
   "source": [
    "str = \"PARVEEN bibi\"\n",
    "rslt = str.islower()\n",
    "print (rslt)\n",
    "\n",
    "str = \"abc5\"\n",
    "rslt = str.islower()\n",
    "print (rslt)"
   ]
  },
  {
   "cell_type": "code",
   "execution_count": 19,
   "metadata": {},
   "outputs": [
    {
     "name": "stdout",
     "output_type": "stream",
     "text": [
      "False\n",
      "True\n"
     ]
    }
   ],
   "source": [
    "str = \"PARVEEN bibi\"\n",
    "rslt = str.isnumeric()\n",
    "print (rslt)\n",
    "\n",
    "str = \"5\"\n",
    "rslt = str.isnumeric()\n",
    "print (rslt)"
   ]
  },
  {
   "cell_type": "code",
   "execution_count": 20,
   "metadata": {},
   "outputs": [
    {
     "name": "stdout",
     "output_type": "stream",
     "text": [
      "True\n",
      "False\n"
     ]
    }
   ],
   "source": [
    "str = \"PARVEEN bibi\"\n",
    "rslt = str.isprintable()\n",
    "print (rslt)\n",
    "\n",
    "str = \"\\n\"\n",
    "rslt = str.isprintable()\n",
    "print (rslt)"
   ]
  },
  {
   "cell_type": "code",
   "execution_count": 21,
   "metadata": {},
   "outputs": [
    {
     "name": "stdout",
     "output_type": "stream",
     "text": [
      "False\n",
      "True\n"
     ]
    }
   ],
   "source": [
    "str = \"   PARVEEN   bibi\"\n",
    "rslt = str.isspace()\n",
    "print (rslt)\n",
    "\n",
    "str = \"        \"\n",
    "rslt = str.isspace()\n",
    "print (rslt)"
   ]
  },
  {
   "cell_type": "code",
   "execution_count": 22,
   "metadata": {},
   "outputs": [
    {
     "name": "stdout",
     "output_type": "stream",
     "text": [
      "True\n",
      "False\n",
      "True\n",
      "True\n",
      "False\n"
     ]
    }
   ],
   "source": [
    "s = 'Python Is Good.'\n",
    "print(s.istitle())\n",
    "\n",
    "s = 'Python is good'\n",
    "print(s.istitle())\n",
    "\n",
    "s = 'This Is @ Symbol.'\n",
    "print(s.istitle())\n",
    "\n",
    "s = '99 Is A Number'\n",
    "print(s.istitle())\n",
    "\n",
    "s = 'PYTHON'\n",
    "print(s.istitle())"
   ]
  },
  {
   "cell_type": "code",
   "execution_count": 23,
   "metadata": {},
   "outputs": [
    {
     "name": "stdout",
     "output_type": "stream",
     "text": [
      "False\n",
      "True\n"
     ]
    }
   ],
   "source": [
    "str = \"PARVEEN bibi\"\n",
    "rslt = str.isupper()\n",
    "print (rslt)\n",
    "\n",
    "str = \"ABS5\"\n",
    "rslt = str.isupper()\n",
    "print (rslt)"
   ]
  },
  {
   "cell_type": "code",
   "execution_count": 24,
   "metadata": {},
   "outputs": [
    {
     "name": "stdout",
     "output_type": "stream",
     "text": [
      "2-->5\n",
      "7, 3, 2\n",
      "2, 3, 3\n"
     ]
    }
   ],
   "source": [
    "a = {'2', '5', '2'}\n",
    "s = '-->'\n",
    "print(s.join(a))\n",
    "\n",
    "test =  {'2', '7', '3'}\n",
    "s = ', '\n",
    "print(s.join(test))\n",
    "\n",
    "test =  ['2', '3', '3']\n",
    "s = ', '\n",
    "print(s.join(test))"
   ]
  },
  {
   "cell_type": "code",
   "execution_count": 25,
   "metadata": {},
   "outputs": [
    {
     "name": "stdout",
     "output_type": "stream",
     "text": [
      "PARVEEN bibi********\n"
     ]
    }
   ],
   "source": [
    "str = \"PARVEEN bibi\"\n",
    "fillchar=\"*\"\n",
    "rslt = str.ljust(20, fillchar)\n",
    "print (rslt)"
   ]
  },
  {
   "cell_type": "code",
   "execution_count": 26,
   "metadata": {},
   "outputs": [
    {
     "name": "stdout",
     "output_type": "stream",
     "text": [
      "parveen bibi\n"
     ]
    }
   ],
   "source": [
    "str = \"PARVEEN bibi\"\n",
    "rslt = str.lower()\n",
    "print (rslt)"
   ]
  },
  {
   "cell_type": "code",
   "execution_count": 27,
   "metadata": {},
   "outputs": [
    {
     "name": "stdout",
     "output_type": "stream",
     "text": [
      "PARVEEN bibi\n"
     ]
    }
   ],
   "source": [
    "str = \"      PARVEEN bibi\"\n",
    "rslt = str.lstrip( )\n",
    "print (rslt)"
   ]
  },
  {
   "cell_type": "code",
   "execution_count": 28,
   "metadata": {},
   "outputs": [
    {
     "name": "stdout",
     "output_type": "stream",
     "text": [
      "{97: 100, 98: 101, 99: 102}\n"
     ]
    }
   ],
   "source": [
    "str1=\"abc\"\n",
    "str2=\"def\"\n",
    "str=\"abc\"\n",
    "print(str.maketrans(str1,str2))"
   ]
  },
  {
   "cell_type": "code",
   "execution_count": 29,
   "metadata": {},
   "outputs": [
    {
     "name": "stdout",
     "output_type": "stream",
     "text": [
      "('Python ', 'is', ' fun')\n",
      "('Python is fun', '', '')\n"
     ]
    }
   ],
   "source": [
    "str=\"Python is fun\"\n",
    "print(str.partition(\"is\"))\n",
    "\n",
    "str=\"Python is fun\"\n",
    "print(str.partition(\"not\"))"
   ]
  },
  {
   "cell_type": "code",
   "execution_count": 33,
   "metadata": {},
   "outputs": [
    {
     "name": "stdout",
     "output_type": "stream",
     "text": [
      "Python isn't fun\n"
     ]
    }
   ],
   "source": [
    "str=\"Python is fun\"\n",
    "print(str.replace(\"is\", \"isn't\"))"
   ]
  },
  {
   "cell_type": "code",
   "execution_count": 31,
   "metadata": {},
   "outputs": [
    {
     "name": "stdout",
     "output_type": "stream",
     "text": [
      "13\n"
     ]
    }
   ],
   "source": [
    "str=\"Python is is is fun\"\n",
    "print(str.rfind('is'))"
   ]
  },
  {
   "cell_type": "code",
   "execution_count": 34,
   "metadata": {},
   "outputs": [
    {
     "name": "stdout",
     "output_type": "stream",
     "text": [
      "20\n"
     ]
    }
   ],
   "source": [
    "str=\"Python is is is fun fun\"\n",
    "print(str.rindex('fun'))"
   ]
  },
  {
   "cell_type": "code",
   "execution_count": 35,
   "metadata": {},
   "outputs": [
    {
     "name": "stdout",
     "output_type": "stream",
     "text": [
      "********PARVEEN bibi\n"
     ]
    }
   ],
   "source": [
    "str = \"PARVEEN bibi\"\n",
    "fillchar=\"*\"\n",
    "rslt = str.rjust(20,fillchar)\n",
    "print (rslt)"
   ]
  },
  {
   "cell_type": "code",
   "execution_count": 36,
   "metadata": {},
   "outputs": [
    {
     "name": "stdout",
     "output_type": "stream",
     "text": [
      "('Python ', 'is', ' fun')\n",
      "('', '', 'Python is fun')\n"
     ]
    }
   ],
   "source": [
    "str=\"Python is fun\"\n",
    "print(str.rpartition(\"is\"))\n",
    "\n",
    "str=\"Python is fun\"\n",
    "print(str.rpartition(\"not\"))"
   ]
  },
  {
   "cell_type": "code",
   "execution_count": 37,
   "metadata": {},
   "outputs": [
    {
     "name": "stdout",
     "output_type": "stream",
     "text": [
      "False\n",
      "True\n"
     ]
    }
   ],
   "source": [
    "str=\"Python is fun\"\n",
    "print(str.startswith(\"is\"))\n",
    "\n",
    "str=\"Python is fun\"\n",
    "print(str.startswith(\"P\"))"
   ]
  },
  {
   "cell_type": "code",
   "execution_count": 38,
   "metadata": {},
   "outputs": [
    {
     "name": "stdout",
     "output_type": "stream",
     "text": [
      "Python Is Fun\n"
     ]
    }
   ],
   "source": [
    "str=\"Python is fun\"\n",
    "print(str.title())"
   ]
  },
  {
   "cell_type": "code",
   "execution_count": 39,
   "metadata": {},
   "outputs": [
    {
     "name": "stdout",
     "output_type": "stream",
     "text": [
      "PYTHON IS FUN\n"
     ]
    }
   ],
   "source": [
    "str=\"Python is fun\"\n",
    "print(str.upper())"
   ]
  },
  {
   "cell_type": "code",
   "execution_count": 40,
   "metadata": {},
   "outputs": [
    {
     "name": "stdout",
     "output_type": "stream",
     "text": [
      "['Python', ' is', ' fun']\n",
      "['Python, is, fun']\n"
     ]
    }
   ],
   "source": [
    "str=\"Python, is, fun\"\n",
    "print(str.split(','))\n",
    "\n",
    "str=\"Python, is, fun\"\n",
    "print(str.split(',', 0))"
   ]
  },
  {
   "cell_type": "code",
   "execution_count": 41,
   "metadata": {},
   "outputs": [
    {
     "name": "stdout",
     "output_type": "stream",
     "text": [
      "000000000000Python is fun\n"
     ]
    }
   ],
   "source": [
    "str=\"Python is fun\"\n",
    "print(str.zfill(25))"
   ]
  },
  {
   "cell_type": "code",
   "execution_count": 42,
   "metadata": {},
   "outputs": [
    {
     "name": "stdout",
     "output_type": "stream",
     "text": [
      "['Python', 'is', 'fun']\n",
      "['Python\\n', 'is\\n', 'fun']\n"
     ]
    }
   ],
   "source": [
    "str=\"Python\\nis\\nfun\"\n",
    "print(str.splitlines())\n",
    "print(str.splitlines(True))"
   ]
  },
  {
   "cell_type": "code",
   "execution_count": 43,
   "metadata": {},
   "outputs": [
    {
     "name": "stdout",
     "output_type": "stream",
     "text": [
      "ghdef\n"
     ]
    }
   ],
   "source": [
    "str1=\"abc\"\n",
    "str2=\"ghi\"\n",
    "str3=\"c\"\n",
    "\n",
    "str=\"abcdef\"\n",
    "trans = str.maketrans(str1,str2,str3)\n",
    "\n",
    "print(str.translate(trans))"
   ]
  },
  {
   "cell_type": "code",
   "execution_count": 44,
   "metadata": {},
   "outputs": [
    {
     "name": "stdout",
     "output_type": "stream",
     "text": [
      "Python is fun\n"
     ]
    }
   ],
   "source": [
    "str=\"    Python is fun      \"\n",
    "print(str.strip())"
   ]
  },
  {
   "cell_type": "code",
   "execution_count": 45,
   "metadata": {},
   "outputs": [
    {
     "name": "stdout",
     "output_type": "stream",
     "text": [
      "Python is fun\n"
     ]
    }
   ],
   "source": [
    "str=\"Python is fun      \"\n",
    "print(str.rstrip())"
   ]
  },
  {
   "cell_type": "code",
   "execution_count": 46,
   "metadata": {},
   "outputs": [
    {
     "name": "stdout",
     "output_type": "stream",
     "text": [
      "parveen BIBI\n"
     ]
    }
   ],
   "source": [
    "str = \"PARVEEN bibi\"\n",
    "rslt = str.swapcase()\n",
    "print (rslt)"
   ]
  },
  {
   "cell_type": "code",
   "execution_count": null,
   "metadata": {},
   "outputs": [],
   "source": []
  }
 ],
 "metadata": {
  "kernelspec": {
   "display_name": "Python 3",
   "language": "python",
   "name": "python3"
  },
  "language_info": {
   "codemirror_mode": {
    "name": "ipython",
    "version": 3
   },
   "file_extension": ".py",
   "mimetype": "text/x-python",
   "name": "python",
   "nbconvert_exporter": "python",
   "pygments_lexer": "ipython3",
   "version": "3.7.4"
  }
 },
 "nbformat": 4,
 "nbformat_minor": 2
}
